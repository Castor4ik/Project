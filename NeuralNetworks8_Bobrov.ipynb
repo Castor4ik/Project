{
  "nbformat": 4,
  "nbformat_minor": 0,
  "metadata": {
    "kernelspec": {
      "display_name": "Python 3",
      "language": "python",
      "name": "python3"
    },
    "language_info": {
      "codemirror_mode": {
        "name": "ipython",
        "version": 3
      },
      "file_extension": ".py",
      "mimetype": "text/x-python",
      "name": "python",
      "nbconvert_exporter": "python",
      "pygments_lexer": "ipython3",
      "version": "3.8.3"
    },
    "colab": {
      "name": "Копия блокнота \"Копия блокнота \"KR 1 Bobrov EK-51.ipynb\"\"",
      "provenance": []
    }
  },
  "cells": [
    {
      "cell_type": "code",
      "metadata": {
        "id": "Zu_L3ks9WbrA"
      },
      "source": [
        "#импорт основных библиотек\n",
        "\n",
        "import numpy as np\n",
        "import matplotlib.pyplot as plt\n",
        "import pandas as pd"
      ],
      "execution_count": 1,
      "outputs": []
    },
    {
      "cell_type": "code",
      "metadata": {
        "id": "0yAZ-jvDZzXf",
        "colab": {
          "resources": {
            "http://localhost:8080/nbextensions/google.colab/files.js": {
              "data": "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",
              "ok": true,
              "headers": [
                [
                  "content-type",
                  "application/javascript"
                ]
              ],
              "status": 200,
              "status_text": ""
            }
          },
          "base_uri": "https://localhost:8080/",
          "height": 73
        },
        "outputId": "6bc0feb6-881c-4b60-f1b6-bb808448ee0c"
      },
      "source": [
        "#импорт датасета\n",
        "\n",
        "from google.colab import files \n",
        "uploaded = files.upload()"
      ],
      "execution_count": 2,
      "outputs": [
        {
          "output_type": "display_data",
          "data": {
            "text/html": [
              "\n",
              "     <input type=\"file\" id=\"files-cbbecd89-c18e-4c3e-8b06-f769e89844dc\" name=\"files[]\" multiple disabled\n",
              "        style=\"border:none\" />\n",
              "     <output id=\"result-cbbecd89-c18e-4c3e-8b06-f769e89844dc\">\n",
              "      Upload widget is only available when the cell has been executed in the\n",
              "      current browser session. Please rerun this cell to enable.\n",
              "      </output>\n",
              "      <script src=\"/nbextensions/google.colab/files.js\"></script> "
            ],
            "text/plain": [
              "<IPython.core.display.HTML object>"
            ]
          },
          "metadata": {}
        },
        {
          "output_type": "stream",
          "name": "stdout",
          "text": [
            "Saving listings_prepar.csv to listings_prepar.csv\n"
          ]
        }
      ]
    },
    {
      "cell_type": "code",
      "metadata": {
        "colab": {
          "base_uri": "https://localhost:8080/",
          "height": 424
        },
        "id": "x_xAcF7jWbrC",
        "outputId": "2788d4a8-d4e3-4f18-b602-ff7cc12fbb8e"
      },
      "source": [
        "#начальный вид датасета\n",
        "\n",
        "df = pd.read_csv('listings_prepar.csv')\n",
        "df"
      ],
      "execution_count": 5,
      "outputs": [
        {
          "output_type": "execute_result",
          "data": {
            "text/html": [
              "<div>\n",
              "<style scoped>\n",
              "    .dataframe tbody tr th:only-of-type {\n",
              "        vertical-align: middle;\n",
              "    }\n",
              "\n",
              "    .dataframe tbody tr th {\n",
              "        vertical-align: top;\n",
              "    }\n",
              "\n",
              "    .dataframe thead th {\n",
              "        text-align: right;\n",
              "    }\n",
              "</style>\n",
              "<table border=\"1\" class=\"dataframe\">\n",
              "  <thead>\n",
              "    <tr style=\"text-align: right;\">\n",
              "      <th></th>\n",
              "      <th>number_of_reviews</th>\n",
              "      <th>calculated_host_listings_count</th>\n",
              "      <th>availability_365</th>\n",
              "      <th>datetime_diff</th>\n",
              "      <th>room_type=0</th>\n",
              "      <th>room_type=1</th>\n",
              "      <th>room_type=2</th>\n",
              "      <th>room_type=3</th>\n",
              "      <th>price</th>\n",
              "    </tr>\n",
              "  </thead>\n",
              "  <tbody>\n",
              "    <tr>\n",
              "      <th>0</th>\n",
              "      <td>65.0</td>\n",
              "      <td>1.0</td>\n",
              "      <td>53.0</td>\n",
              "      <td>831.0</td>\n",
              "      <td>0.0</td>\n",
              "      <td>0.0</td>\n",
              "      <td>1.0</td>\n",
              "      <td>0.0</td>\n",
              "      <td>70.0</td>\n",
              "    </tr>\n",
              "    <tr>\n",
              "      <th>1</th>\n",
              "      <td>33.0</td>\n",
              "      <td>2.0</td>\n",
              "      <td>48.0</td>\n",
              "      <td>1247.0</td>\n",
              "      <td>0.0</td>\n",
              "      <td>0.0</td>\n",
              "      <td>1.0</td>\n",
              "      <td>0.0</td>\n",
              "      <td>17.0</td>\n",
              "    </tr>\n",
              "    <tr>\n",
              "      <th>2</th>\n",
              "      <td>64.0</td>\n",
              "      <td>1.0</td>\n",
              "      <td>301.0</td>\n",
              "      <td>890.0</td>\n",
              "      <td>1.0</td>\n",
              "      <td>0.0</td>\n",
              "      <td>0.0</td>\n",
              "      <td>0.0</td>\n",
              "      <td>115.0</td>\n",
              "    </tr>\n",
              "    <tr>\n",
              "      <th>3</th>\n",
              "      <td>8.0</td>\n",
              "      <td>1.0</td>\n",
              "      <td>0.0</td>\n",
              "      <td>1658.0</td>\n",
              "      <td>0.0</td>\n",
              "      <td>0.0</td>\n",
              "      <td>1.0</td>\n",
              "      <td>0.0</td>\n",
              "      <td>54.0</td>\n",
              "    </tr>\n",
              "    <tr>\n",
              "      <th>4</th>\n",
              "      <td>38.0</td>\n",
              "      <td>3.0</td>\n",
              "      <td>337.0</td>\n",
              "      <td>890.0</td>\n",
              "      <td>1.0</td>\n",
              "      <td>0.0</td>\n",
              "      <td>0.0</td>\n",
              "      <td>0.0</td>\n",
              "      <td>90.0</td>\n",
              "    </tr>\n",
              "    <tr>\n",
              "      <th>...</th>\n",
              "      <td>...</td>\n",
              "      <td>...</td>\n",
              "      <td>...</td>\n",
              "      <td>...</td>\n",
              "      <td>...</td>\n",
              "      <td>...</td>\n",
              "      <td>...</td>\n",
              "      <td>...</td>\n",
              "      <td>...</td>\n",
              "    </tr>\n",
              "    <tr>\n",
              "      <th>3839</th>\n",
              "      <td>19.0</td>\n",
              "      <td>2.0</td>\n",
              "      <td>144.0</td>\n",
              "      <td>889.0</td>\n",
              "      <td>0.0</td>\n",
              "      <td>0.0</td>\n",
              "      <td>1.0</td>\n",
              "      <td>0.0</td>\n",
              "      <td>169.0</td>\n",
              "    </tr>\n",
              "    <tr>\n",
              "      <th>3840</th>\n",
              "      <td>40.0</td>\n",
              "      <td>8.0</td>\n",
              "      <td>317.0</td>\n",
              "      <td>922.0</td>\n",
              "      <td>0.0</td>\n",
              "      <td>0.0</td>\n",
              "      <td>0.0</td>\n",
              "      <td>1.0</td>\n",
              "      <td>149.0</td>\n",
              "    </tr>\n",
              "    <tr>\n",
              "      <th>3841</th>\n",
              "      <td>14.0</td>\n",
              "      <td>1.0</td>\n",
              "      <td>267.0</td>\n",
              "      <td>879.0</td>\n",
              "      <td>1.0</td>\n",
              "      <td>0.0</td>\n",
              "      <td>0.0</td>\n",
              "      <td>0.0</td>\n",
              "      <td>80.0</td>\n",
              "    </tr>\n",
              "    <tr>\n",
              "      <th>3842</th>\n",
              "      <td>73.0</td>\n",
              "      <td>2.0</td>\n",
              "      <td>51.0</td>\n",
              "      <td>822.0</td>\n",
              "      <td>1.0</td>\n",
              "      <td>0.0</td>\n",
              "      <td>0.0</td>\n",
              "      <td>0.0</td>\n",
              "      <td>180.0</td>\n",
              "    </tr>\n",
              "    <tr>\n",
              "      <th>3843</th>\n",
              "      <td>74.0</td>\n",
              "      <td>3.0</td>\n",
              "      <td>346.0</td>\n",
              "      <td>824.0</td>\n",
              "      <td>0.0</td>\n",
              "      <td>0.0</td>\n",
              "      <td>1.0</td>\n",
              "      <td>0.0</td>\n",
              "      <td>25.0</td>\n",
              "    </tr>\n",
              "  </tbody>\n",
              "</table>\n",
              "<p>3844 rows × 9 columns</p>\n",
              "</div>"
            ],
            "text/plain": [
              "      number_of_reviews  calculated_host_listings_count  ...  room_type=3  price\n",
              "0                  65.0                             1.0  ...          0.0   70.0\n",
              "1                  33.0                             2.0  ...          0.0   17.0\n",
              "2                  64.0                             1.0  ...          0.0  115.0\n",
              "3                   8.0                             1.0  ...          0.0   54.0\n",
              "4                  38.0                             3.0  ...          0.0   90.0\n",
              "...                 ...                             ...  ...          ...    ...\n",
              "3839               19.0                             2.0  ...          0.0  169.0\n",
              "3840               40.0                             8.0  ...          1.0  149.0\n",
              "3841               14.0                             1.0  ...          0.0   80.0\n",
              "3842               73.0                             2.0  ...          0.0  180.0\n",
              "3843               74.0                             3.0  ...          0.0   25.0\n",
              "\n",
              "[3844 rows x 9 columns]"
            ]
          },
          "metadata": {},
          "execution_count": 5
        }
      ]
    },
    {
      "cell_type": "code",
      "metadata": {
        "id": "2DID6ilAWbrR"
      },
      "source": [
        "# Splitting the dataset into the Training set and Test set\n",
        "X = df.iloc[:, :-1]\n",
        "y = df['price']\n",
        "from sklearn.model_selection import train_test_split\n",
        "X_train, X_test, y_train, y_test = train_test_split(X, y, test_size=0.2, random_state=10)\n"
      ],
      "execution_count": 9,
      "outputs": []
    },
    {
      "cell_type": "code",
      "metadata": {
        "id": "afwMGHYzWbrT"
      },
      "source": [
        "#меняем формат массивов на датасеты\n",
        "\n",
        "X_train = pd.DataFrame(X_train)\n",
        "X_test = pd.DataFrame(X_test)\n",
        "y_test = pd.DataFrame(y_test)\n",
        "y_train = pd.DataFrame(y_train)\n",
        "y_train = np.asarray(y_train).reshape(-1,1)\n",
        "y_test = np.asarray(y_test).reshape(-1,1)"
      ],
      "execution_count": 10,
      "outputs": []
    },
    {
      "cell_type": "code",
      "metadata": {
        "id": "Ev-AHxcrWbrT"
      },
      "source": [
        "# Шкалируем данные \n",
        "from sklearn.preprocessing import StandardScaler\n",
        "sc_X = StandardScaler().fit(X_train)\n",
        "X_train = sc_X.transform(X_train)\n",
        "X_test = sc_X.transform(X_test)\n",
        "sc_y = StandardScaler().fit(y_train)\n",
        "y_train = sc_y.transform(y_train)\n",
        "y_test = sc_y.transform(y_test)"
      ],
      "execution_count": 11,
      "outputs": []
    },
    {
      "cell_type": "code",
      "metadata": {
        "id": "H1HRzy5fWbrU"
      },
      "source": [
        "#устанавливаем нужные библиотеки для НС\n",
        "\n",
        "#!pip install tensorflow\n",
        "#!pip install keras\n",
        "# Importing the Keras libraries and packages\n",
        "import keras\n",
        "from keras.models import Sequential\n",
        "from keras.layers import Dense\n"
      ],
      "execution_count": 12,
      "outputs": []
    },
    {
      "cell_type": "code",
      "metadata": {
        "id": "baqR6bjZWbrU"
      },
      "source": [
        "\n",
        "# Initialising the ANN\n",
        "rnn = Sequential()\n",
        "\n",
        "# Adding the input layer and the first hidden layer\n",
        "rnn.add(Dense(12, activation = 'tanh', input_dim = 8))\n",
        "\n",
        "# Adding the second hidden layer\n",
        "rnn.add(Dense(7, activation = 'tanh'))\n",
        "\n",
        "\n",
        "# Adding the output layer\n",
        "rnn.add(Dense(1, activation = 'linear'))\n",
        "\n",
        "# Compiling the ANN\n",
        "rnn.compile(optimizer='adam', loss='mean_squared_error', metrics = ['accuracy'])"
      ],
      "execution_count": 24,
      "outputs": []
    },
    {
      "cell_type": "code",
      "metadata": {
        "colab": {
          "base_uri": "https://localhost:8080/"
        },
        "id": "YzHuFlZkXZsO",
        "outputId": "ff01b48b-cc50-434a-e9e0-de40da44356b"
      },
      "source": [
        "# Fitting the ANN to the Training set\n",
        "k = rnn.fit(X_train, y_train, batch_size = 8, validation_data=(X_test, y_test), epochs = 100)"
      ],
      "execution_count": 25,
      "outputs": [
        {
          "output_type": "stream",
          "name": "stdout",
          "text": [
            "Epoch 1/100\n",
            "385/385 [==============================] - 1s 2ms/step - loss: 1.0515 - accuracy: 0.0000e+00 - val_loss: 0.9720 - val_accuracy: 0.0000e+00\n",
            "Epoch 2/100\n",
            "385/385 [==============================] - 1s 2ms/step - loss: 0.9793 - accuracy: 0.0000e+00 - val_loss: 0.9715 - val_accuracy: 0.0000e+00\n",
            "Epoch 3/100\n",
            "385/385 [==============================] - 1s 2ms/step - loss: 0.9720 - accuracy: 0.0000e+00 - val_loss: 0.9600 - val_accuracy: 0.0000e+00\n",
            "Epoch 4/100\n",
            "385/385 [==============================] - 1s 2ms/step - loss: 0.9658 - accuracy: 0.0000e+00 - val_loss: 0.9569 - val_accuracy: 0.0000e+00\n",
            "Epoch 5/100\n",
            "385/385 [==============================] - 1s 2ms/step - loss: 0.9618 - accuracy: 0.0000e+00 - val_loss: 0.9502 - val_accuracy: 0.0000e+00\n",
            "Epoch 6/100\n",
            "385/385 [==============================] - 1s 2ms/step - loss: 0.9581 - accuracy: 0.0000e+00 - val_loss: 0.9515 - val_accuracy: 0.0000e+00\n",
            "Epoch 7/100\n",
            "385/385 [==============================] - 1s 2ms/step - loss: 0.9552 - accuracy: 0.0000e+00 - val_loss: 0.9469 - val_accuracy: 0.0000e+00\n",
            "Epoch 8/100\n",
            "385/385 [==============================] - 1s 2ms/step - loss: 0.9524 - accuracy: 0.0000e+00 - val_loss: 0.9517 - val_accuracy: 0.0000e+00\n",
            "Epoch 9/100\n",
            "385/385 [==============================] - 1s 2ms/step - loss: 0.9508 - accuracy: 0.0000e+00 - val_loss: 0.9637 - val_accuracy: 0.0000e+00\n",
            "Epoch 10/100\n",
            "385/385 [==============================] - 1s 2ms/step - loss: 0.9484 - accuracy: 0.0000e+00 - val_loss: 0.9504 - val_accuracy: 0.0000e+00\n",
            "Epoch 11/100\n",
            "385/385 [==============================] - 1s 2ms/step - loss: 0.9478 - accuracy: 0.0000e+00 - val_loss: 0.9464 - val_accuracy: 0.0000e+00\n",
            "Epoch 12/100\n",
            "385/385 [==============================] - 1s 2ms/step - loss: 0.9453 - accuracy: 0.0000e+00 - val_loss: 0.9520 - val_accuracy: 0.0000e+00\n",
            "Epoch 13/100\n",
            "385/385 [==============================] - 1s 2ms/step - loss: 0.9449 - accuracy: 0.0000e+00 - val_loss: 0.9475 - val_accuracy: 0.0000e+00\n",
            "Epoch 14/100\n",
            "385/385 [==============================] - 1s 2ms/step - loss: 0.9446 - accuracy: 0.0000e+00 - val_loss: 0.9438 - val_accuracy: 0.0000e+00\n",
            "Epoch 15/100\n",
            "385/385 [==============================] - 1s 2ms/step - loss: 0.9431 - accuracy: 0.0000e+00 - val_loss: 0.9508 - val_accuracy: 0.0000e+00\n",
            "Epoch 16/100\n",
            "385/385 [==============================] - 1s 2ms/step - loss: 0.9390 - accuracy: 0.0000e+00 - val_loss: 0.9483 - val_accuracy: 0.0000e+00\n",
            "Epoch 17/100\n",
            "385/385 [==============================] - 1s 2ms/step - loss: 0.9395 - accuracy: 0.0000e+00 - val_loss: 0.9438 - val_accuracy: 0.0000e+00\n",
            "Epoch 18/100\n",
            "385/385 [==============================] - 1s 2ms/step - loss: 0.9390 - accuracy: 0.0000e+00 - val_loss: 0.9555 - val_accuracy: 0.0000e+00\n",
            "Epoch 19/100\n",
            "385/385 [==============================] - 1s 2ms/step - loss: 0.9389 - accuracy: 0.0000e+00 - val_loss: 0.9464 - val_accuracy: 0.0000e+00\n",
            "Epoch 20/100\n",
            "385/385 [==============================] - 1s 2ms/step - loss: 0.9370 - accuracy: 0.0000e+00 - val_loss: 0.9516 - val_accuracy: 0.0000e+00\n",
            "Epoch 21/100\n",
            "385/385 [==============================] - 1s 2ms/step - loss: 0.9374 - accuracy: 0.0000e+00 - val_loss: 0.9499 - val_accuracy: 0.0000e+00\n",
            "Epoch 22/100\n",
            "385/385 [==============================] - 1s 2ms/step - loss: 0.9351 - accuracy: 0.0000e+00 - val_loss: 0.9629 - val_accuracy: 0.0000e+00\n",
            "Epoch 23/100\n",
            "385/385 [==============================] - 1s 2ms/step - loss: 0.9323 - accuracy: 0.0000e+00 - val_loss: 0.9598 - val_accuracy: 0.0000e+00\n",
            "Epoch 24/100\n",
            "385/385 [==============================] - 1s 2ms/step - loss: 0.9338 - accuracy: 0.0000e+00 - val_loss: 0.9404 - val_accuracy: 0.0000e+00\n",
            "Epoch 25/100\n",
            "385/385 [==============================] - 1s 2ms/step - loss: 0.9310 - accuracy: 0.0000e+00 - val_loss: 0.9448 - val_accuracy: 0.0000e+00\n",
            "Epoch 26/100\n",
            "385/385 [==============================] - 1s 2ms/step - loss: 0.9325 - accuracy: 0.0000e+00 - val_loss: 0.9455 - val_accuracy: 0.0000e+00\n",
            "Epoch 27/100\n",
            "385/385 [==============================] - 1s 2ms/step - loss: 0.9310 - accuracy: 0.0000e+00 - val_loss: 0.9411 - val_accuracy: 0.0000e+00\n",
            "Epoch 28/100\n",
            "385/385 [==============================] - 1s 2ms/step - loss: 0.9331 - accuracy: 0.0000e+00 - val_loss: 0.9423 - val_accuracy: 0.0000e+00\n",
            "Epoch 29/100\n",
            "385/385 [==============================] - 1s 2ms/step - loss: 0.9294 - accuracy: 0.0000e+00 - val_loss: 0.9351 - val_accuracy: 0.0000e+00\n",
            "Epoch 30/100\n",
            "385/385 [==============================] - 1s 2ms/step - loss: 0.9271 - accuracy: 0.0000e+00 - val_loss: 0.9605 - val_accuracy: 0.0000e+00\n",
            "Epoch 31/100\n",
            "385/385 [==============================] - 1s 2ms/step - loss: 0.9258 - accuracy: 0.0000e+00 - val_loss: 0.9367 - val_accuracy: 0.0000e+00\n",
            "Epoch 32/100\n",
            "385/385 [==============================] - 1s 2ms/step - loss: 0.9272 - accuracy: 0.0000e+00 - val_loss: 0.9430 - val_accuracy: 0.0000e+00\n",
            "Epoch 33/100\n",
            "385/385 [==============================] - 1s 2ms/step - loss: 0.9253 - accuracy: 0.0000e+00 - val_loss: 0.9465 - val_accuracy: 0.0000e+00\n",
            "Epoch 34/100\n",
            "385/385 [==============================] - 1s 2ms/step - loss: 0.9252 - accuracy: 0.0000e+00 - val_loss: 0.9405 - val_accuracy: 0.0000e+00\n",
            "Epoch 35/100\n",
            "385/385 [==============================] - 1s 2ms/step - loss: 0.9248 - accuracy: 0.0000e+00 - val_loss: 0.9490 - val_accuracy: 0.0000e+00\n",
            "Epoch 36/100\n",
            "385/385 [==============================] - 1s 2ms/step - loss: 0.9229 - accuracy: 0.0000e+00 - val_loss: 0.9413 - val_accuracy: 0.0000e+00\n",
            "Epoch 37/100\n",
            "385/385 [==============================] - 1s 2ms/step - loss: 0.9221 - accuracy: 0.0000e+00 - val_loss: 0.9507 - val_accuracy: 0.0000e+00\n",
            "Epoch 38/100\n",
            "385/385 [==============================] - 1s 2ms/step - loss: 0.9237 - accuracy: 0.0000e+00 - val_loss: 0.9361 - val_accuracy: 0.0000e+00\n",
            "Epoch 39/100\n",
            "385/385 [==============================] - 1s 2ms/step - loss: 0.9213 - accuracy: 0.0000e+00 - val_loss: 0.9372 - val_accuracy: 0.0000e+00\n",
            "Epoch 40/100\n",
            "385/385 [==============================] - 1s 2ms/step - loss: 0.9207 - accuracy: 0.0000e+00 - val_loss: 0.9495 - val_accuracy: 0.0000e+00\n",
            "Epoch 41/100\n",
            "385/385 [==============================] - 1s 2ms/step - loss: 0.9204 - accuracy: 0.0000e+00 - val_loss: 0.9345 - val_accuracy: 0.0000e+00\n",
            "Epoch 42/100\n",
            "385/385 [==============================] - 1s 2ms/step - loss: 0.9197 - accuracy: 0.0000e+00 - val_loss: 0.9415 - val_accuracy: 0.0000e+00\n",
            "Epoch 43/100\n",
            "385/385 [==============================] - 1s 2ms/step - loss: 0.9214 - accuracy: 0.0000e+00 - val_loss: 0.9378 - val_accuracy: 0.0000e+00\n",
            "Epoch 44/100\n",
            "385/385 [==============================] - 1s 2ms/step - loss: 0.9197 - accuracy: 0.0000e+00 - val_loss: 0.9332 - val_accuracy: 0.0000e+00\n",
            "Epoch 45/100\n",
            "385/385 [==============================] - 1s 2ms/step - loss: 0.9159 - accuracy: 0.0000e+00 - val_loss: 0.9365 - val_accuracy: 0.0000e+00\n",
            "Epoch 46/100\n",
            "385/385 [==============================] - 1s 2ms/step - loss: 0.9160 - accuracy: 0.0000e+00 - val_loss: 0.9381 - val_accuracy: 0.0000e+00\n",
            "Epoch 47/100\n",
            "385/385 [==============================] - 1s 2ms/step - loss: 0.9153 - accuracy: 0.0000e+00 - val_loss: 0.9332 - val_accuracy: 0.0000e+00\n",
            "Epoch 48/100\n",
            "385/385 [==============================] - 1s 2ms/step - loss: 0.9181 - accuracy: 0.0000e+00 - val_loss: 0.9316 - val_accuracy: 0.0000e+00\n",
            "Epoch 49/100\n",
            "385/385 [==============================] - 1s 2ms/step - loss: 0.9156 - accuracy: 0.0000e+00 - val_loss: 0.9369 - val_accuracy: 0.0000e+00\n",
            "Epoch 50/100\n",
            "385/385 [==============================] - 1s 2ms/step - loss: 0.9161 - accuracy: 0.0000e+00 - val_loss: 0.9317 - val_accuracy: 0.0000e+00\n",
            "Epoch 51/100\n",
            "385/385 [==============================] - 1s 2ms/step - loss: 0.9151 - accuracy: 0.0000e+00 - val_loss: 0.9385 - val_accuracy: 0.0000e+00\n",
            "Epoch 52/100\n",
            "385/385 [==============================] - 1s 2ms/step - loss: 0.9143 - accuracy: 0.0000e+00 - val_loss: 0.9382 - val_accuracy: 0.0000e+00\n",
            "Epoch 53/100\n",
            "385/385 [==============================] - 1s 2ms/step - loss: 0.9147 - accuracy: 0.0000e+00 - val_loss: 0.9447 - val_accuracy: 0.0000e+00\n",
            "Epoch 54/100\n",
            "385/385 [==============================] - 1s 2ms/step - loss: 0.9128 - accuracy: 0.0000e+00 - val_loss: 0.9396 - val_accuracy: 0.0000e+00\n",
            "Epoch 55/100\n",
            "385/385 [==============================] - 1s 2ms/step - loss: 0.9122 - accuracy: 0.0000e+00 - val_loss: 0.9487 - val_accuracy: 0.0000e+00\n",
            "Epoch 56/100\n",
            "385/385 [==============================] - 1s 2ms/step - loss: 0.9137 - accuracy: 0.0000e+00 - val_loss: 0.9296 - val_accuracy: 0.0000e+00\n",
            "Epoch 57/100\n",
            "385/385 [==============================] - 1s 2ms/step - loss: 0.9096 - accuracy: 0.0000e+00 - val_loss: 0.9368 - val_accuracy: 0.0000e+00\n",
            "Epoch 58/100\n",
            "385/385 [==============================] - 1s 2ms/step - loss: 0.9102 - accuracy: 0.0000e+00 - val_loss: 0.9459 - val_accuracy: 0.0000e+00\n",
            "Epoch 59/100\n",
            "385/385 [==============================] - 1s 2ms/step - loss: 0.9107 - accuracy: 0.0000e+00 - val_loss: 0.9315 - val_accuracy: 0.0000e+00\n",
            "Epoch 60/100\n",
            "385/385 [==============================] - 1s 2ms/step - loss: 0.9103 - accuracy: 0.0000e+00 - val_loss: 0.9339 - val_accuracy: 0.0000e+00\n",
            "Epoch 61/100\n",
            "385/385 [==============================] - 1s 2ms/step - loss: 0.9089 - accuracy: 0.0000e+00 - val_loss: 0.9308 - val_accuracy: 0.0000e+00\n",
            "Epoch 62/100\n",
            "385/385 [==============================] - 1s 2ms/step - loss: 0.9103 - accuracy: 0.0000e+00 - val_loss: 0.9347 - val_accuracy: 0.0000e+00\n",
            "Epoch 63/100\n",
            "385/385 [==============================] - 1s 2ms/step - loss: 0.9095 - accuracy: 0.0000e+00 - val_loss: 0.9364 - val_accuracy: 0.0000e+00\n",
            "Epoch 64/100\n",
            "385/385 [==============================] - 1s 2ms/step - loss: 0.9095 - accuracy: 0.0000e+00 - val_loss: 0.9289 - val_accuracy: 0.0000e+00\n",
            "Epoch 65/100\n",
            "385/385 [==============================] - 1s 2ms/step - loss: 0.9073 - accuracy: 0.0000e+00 - val_loss: 0.9355 - val_accuracy: 0.0000e+00\n",
            "Epoch 66/100\n",
            "385/385 [==============================] - 1s 2ms/step - loss: 0.9075 - accuracy: 0.0000e+00 - val_loss: 0.9466 - val_accuracy: 0.0000e+00\n",
            "Epoch 67/100\n",
            "385/385 [==============================] - 1s 2ms/step - loss: 0.9070 - accuracy: 0.0000e+00 - val_loss: 0.9369 - val_accuracy: 0.0000e+00\n",
            "Epoch 68/100\n",
            "385/385 [==============================] - 1s 2ms/step - loss: 0.9061 - accuracy: 0.0000e+00 - val_loss: 0.9364 - val_accuracy: 0.0000e+00\n",
            "Epoch 69/100\n",
            "385/385 [==============================] - 1s 2ms/step - loss: 0.9038 - accuracy: 0.0000e+00 - val_loss: 0.9480 - val_accuracy: 0.0000e+00\n",
            "Epoch 70/100\n",
            "385/385 [==============================] - 1s 2ms/step - loss: 0.9066 - accuracy: 0.0000e+00 - val_loss: 0.9376 - val_accuracy: 0.0000e+00\n",
            "Epoch 71/100\n",
            "385/385 [==============================] - 1s 2ms/step - loss: 0.9032 - accuracy: 0.0000e+00 - val_loss: 0.9371 - val_accuracy: 0.0000e+00\n",
            "Epoch 72/100\n",
            "385/385 [==============================] - 1s 2ms/step - loss: 0.9049 - accuracy: 0.0000e+00 - val_loss: 0.9479 - val_accuracy: 0.0000e+00\n",
            "Epoch 73/100\n",
            "385/385 [==============================] - 1s 2ms/step - loss: 0.9051 - accuracy: 0.0000e+00 - val_loss: 0.9401 - val_accuracy: 0.0000e+00\n",
            "Epoch 74/100\n",
            "385/385 [==============================] - 1s 2ms/step - loss: 0.9045 - accuracy: 0.0000e+00 - val_loss: 0.9421 - val_accuracy: 0.0000e+00\n",
            "Epoch 75/100\n",
            "385/385 [==============================] - 1s 2ms/step - loss: 0.9040 - accuracy: 0.0000e+00 - val_loss: 0.9424 - val_accuracy: 0.0000e+00\n",
            "Epoch 76/100\n",
            "385/385 [==============================] - 1s 2ms/step - loss: 0.9008 - accuracy: 0.0000e+00 - val_loss: 0.9341 - val_accuracy: 0.0000e+00\n",
            "Epoch 77/100\n",
            "385/385 [==============================] - 1s 2ms/step - loss: 0.9030 - accuracy: 0.0000e+00 - val_loss: 0.9435 - val_accuracy: 0.0000e+00\n",
            "Epoch 78/100\n",
            "385/385 [==============================] - 1s 2ms/step - loss: 0.9011 - accuracy: 0.0000e+00 - val_loss: 0.9403 - val_accuracy: 0.0000e+00\n",
            "Epoch 79/100\n",
            "385/385 [==============================] - 1s 2ms/step - loss: 0.9028 - accuracy: 0.0000e+00 - val_loss: 0.9435 - val_accuracy: 0.0000e+00\n",
            "Epoch 80/100\n",
            "385/385 [==============================] - 1s 2ms/step - loss: 0.9016 - accuracy: 0.0000e+00 - val_loss: 0.9405 - val_accuracy: 0.0000e+00\n",
            "Epoch 81/100\n",
            "385/385 [==============================] - 1s 2ms/step - loss: 0.8997 - accuracy: 0.0000e+00 - val_loss: 0.9463 - val_accuracy: 0.0000e+00\n",
            "Epoch 82/100\n",
            "385/385 [==============================] - 1s 2ms/step - loss: 0.9002 - accuracy: 0.0000e+00 - val_loss: 0.9367 - val_accuracy: 0.0000e+00\n",
            "Epoch 83/100\n",
            "385/385 [==============================] - 1s 2ms/step - loss: 0.8990 - accuracy: 0.0000e+00 - val_loss: 0.9418 - val_accuracy: 0.0000e+00\n",
            "Epoch 84/100\n",
            "385/385 [==============================] - 1s 2ms/step - loss: 0.8997 - accuracy: 0.0000e+00 - val_loss: 0.9418 - val_accuracy: 0.0000e+00\n",
            "Epoch 85/100\n",
            "385/385 [==============================] - 1s 2ms/step - loss: 0.8992 - accuracy: 0.0000e+00 - val_loss: 0.9472 - val_accuracy: 0.0000e+00\n",
            "Epoch 86/100\n",
            "385/385 [==============================] - 1s 2ms/step - loss: 0.8997 - accuracy: 0.0000e+00 - val_loss: 0.9456 - val_accuracy: 0.0000e+00\n",
            "Epoch 87/100\n",
            "385/385 [==============================] - 1s 2ms/step - loss: 0.8995 - accuracy: 0.0000e+00 - val_loss: 0.9376 - val_accuracy: 0.0000e+00\n",
            "Epoch 88/100\n",
            "385/385 [==============================] - 1s 2ms/step - loss: 0.8984 - accuracy: 0.0000e+00 - val_loss: 0.9418 - val_accuracy: 0.0000e+00\n",
            "Epoch 89/100\n",
            "385/385 [==============================] - 1s 2ms/step - loss: 0.8967 - accuracy: 0.0000e+00 - val_loss: 0.9467 - val_accuracy: 0.0000e+00\n",
            "Epoch 90/100\n",
            "385/385 [==============================] - 1s 2ms/step - loss: 0.8987 - accuracy: 0.0000e+00 - val_loss: 0.9523 - val_accuracy: 0.0000e+00\n",
            "Epoch 91/100\n",
            "385/385 [==============================] - 1s 2ms/step - loss: 0.8979 - accuracy: 0.0000e+00 - val_loss: 0.9424 - val_accuracy: 0.0000e+00\n",
            "Epoch 92/100\n",
            "385/385 [==============================] - 1s 2ms/step - loss: 0.8975 - accuracy: 0.0000e+00 - val_loss: 0.9386 - val_accuracy: 0.0000e+00\n",
            "Epoch 93/100\n",
            "385/385 [==============================] - 1s 2ms/step - loss: 0.8960 - accuracy: 0.0000e+00 - val_loss: 0.9485 - val_accuracy: 0.0000e+00\n",
            "Epoch 94/100\n",
            "385/385 [==============================] - 1s 2ms/step - loss: 0.8945 - accuracy: 0.0000e+00 - val_loss: 0.9535 - val_accuracy: 0.0000e+00\n",
            "Epoch 95/100\n",
            "385/385 [==============================] - 1s 2ms/step - loss: 0.8978 - accuracy: 0.0000e+00 - val_loss: 0.9434 - val_accuracy: 0.0000e+00\n",
            "Epoch 96/100\n",
            "385/385 [==============================] - 1s 2ms/step - loss: 0.8941 - accuracy: 0.0000e+00 - val_loss: 0.9460 - val_accuracy: 0.0000e+00\n",
            "Epoch 97/100\n",
            "385/385 [==============================] - 1s 2ms/step - loss: 0.8950 - accuracy: 0.0000e+00 - val_loss: 0.9492 - val_accuracy: 0.0000e+00\n",
            "Epoch 98/100\n",
            "385/385 [==============================] - 1s 2ms/step - loss: 0.8947 - accuracy: 0.0000e+00 - val_loss: 0.9451 - val_accuracy: 0.0000e+00\n",
            "Epoch 99/100\n",
            "385/385 [==============================] - 1s 2ms/step - loss: 0.8935 - accuracy: 0.0000e+00 - val_loss: 0.9428 - val_accuracy: 0.0000e+00\n",
            "Epoch 100/100\n",
            "385/385 [==============================] - 1s 2ms/step - loss: 0.8938 - accuracy: 0.0000e+00 - val_loss: 0.9583 - val_accuracy: 0.0000e+00\n"
          ]
        }
      ]
    },
    {
      "cell_type": "code",
      "metadata": {
        "id": "-S3lGFehXcr7"
      },
      "source": [
        "# Predicting the Test set results\n",
        "y_pred = rnn.predict(X_test)"
      ],
      "execution_count": 26,
      "outputs": []
    },
    {
      "cell_type": "code",
      "metadata": {
        "colab": {
          "base_uri": "https://localhost:8080/",
          "height": 295
        },
        "id": "zpUK-QSG41jL",
        "outputId": "750850bb-3250-40f2-fded-59d50172d2f8"
      },
      "source": [
        "# Plotting loss & accuracy\n",
        "plt.figure()\n",
        "plt.plot(k.history['loss'])\n",
        "plt.plot(k.history['val_loss'])\n",
        "plt.title('model loss')\n",
        "plt.ylabel('loss')\n",
        "plt.xlabel('epoch')\n",
        "plt.legend(['train', 'test'], loc='best')\n",
        "plt.show()"
      ],
      "execution_count": 27,
      "outputs": [
        {
          "output_type": "display_data",
          "data": {
            "image/png": "[encoded data removed]",
            "text/plain": [
              "<Figure size 432x288 with 1 Axes>"
            ]
          },
          "metadata": {
            "needs_background": "light"
          }
        }
      ]
    },
    {
      "cell_type": "code",
      "metadata": {
        "id": "amDrU1TQ6fmS"
      },
      "source": [
        "#Стоит отметить, что на примерно 40-80 эпохах у нас практически нет никакого разрыва! Попробуем построить, возьмем 80 эпох."
      ],
      "execution_count": 28,
      "outputs": []
    },
    {
      "cell_type": "code",
      "metadata": {
        "id": "b9nA73WueZfI"
      },
      "source": [
        "# Inversing scaling\n",
        "from sklearn.preprocessing import StandardScaler\n",
        "y_hat = sc_y.inverse_transform(y_pred)\n",
        "y_test = sc_y.inverse_transform(y_test)\n",
        "X_test = sc_X.inverse_transform(X_test)"
      ],
      "execution_count": 29,
      "outputs": []
    },
    {
      "cell_type": "code",
      "metadata": {
        "id": "7eCAA13web3A",
        "colab": {
          "base_uri": "https://localhost:8080/"
        },
        "outputId": "f9666897-13bb-419c-81d4-ae409327d890"
      },
      "source": [
        "# Mean squared error\n",
        "from sklearn.metrics import mean_squared_error\n",
        "mean_squared_error(sc_y.inverse_transform(y_train), sc_y.inverse_transform(rnn.predict(X_train)), squared=False).round(3), mean_squared_error(y_test, y_hat, squared=False).round(3)"
      ],
      "execution_count": 30,
      "outputs": [
        {
          "output_type": "execute_result",
          "data": {
            "text/plain": [
              "(35.165, 36.493)"
            ]
          },
          "metadata": {},
          "execution_count": 30
        }
      ]
    },
    {
      "cell_type": "code",
      "metadata": {
        "id": "nL0OGGVL4R50"
      },
      "source": [
        ""
      ],
      "execution_count": null,
      "outputs": []
    },
    {
      "cell_type": "code",
      "metadata": {
        "id": "dYatQ78gedsu",
        "colab": {
          "base_uri": "https://localhost:8080/",
          "height": 424
        },
        "outputId": "6bb1870e-8285-4cb9-ab35-292dc3a689ef"
      },
      "source": [
        "#testing the best features\n",
        "\n",
        "df = df.drop(columns = ['datetime_diff'], );\n",
        "df = df.drop(columns = ['calculated_host_listings_count'], );\n",
        "df = df.drop(columns = ['availability_365'], );\n",
        "df = df.drop(columns = ['room_type=0'], );\n",
        "df = df.drop(columns = ['room_type=1'], );\n",
        "df = df.drop(columns = ['room_type=2'], );\n",
        "df = df.drop(columns = ['room_type=3'], );\n",
        "df\n",
        "\t\t\t\t\t\t\t\t"
      ],
      "execution_count": 31,
      "outputs": [
        {
          "output_type": "execute_result",
          "data": {
            "text/html": [
              "<div>\n",
              "<style scoped>\n",
              "    .dataframe tbody tr th:only-of-type {\n",
              "        vertical-align: middle;\n",
              "    }\n",
              "\n",
              "    .dataframe tbody tr th {\n",
              "        vertical-align: top;\n",
              "    }\n",
              "\n",
              "    .dataframe thead th {\n",
              "        text-align: right;\n",
              "    }\n",
              "</style>\n",
              "<table border=\"1\" class=\"dataframe\">\n",
              "  <thead>\n",
              "    <tr style=\"text-align: right;\">\n",
              "      <th></th>\n",
              "      <th>number_of_reviews</th>\n",
              "      <th>price</th>\n",
              "    </tr>\n",
              "  </thead>\n",
              "  <tbody>\n",
              "    <tr>\n",
              "      <th>0</th>\n",
              "      <td>65.0</td>\n",
              "      <td>70.0</td>\n",
              "    </tr>\n",
              "    <tr>\n",
              "      <th>1</th>\n",
              "      <td>33.0</td>\n",
              "      <td>17.0</td>\n",
              "    </tr>\n",
              "    <tr>\n",
              "      <th>2</th>\n",
              "      <td>64.0</td>\n",
              "      <td>115.0</td>\n",
              "    </tr>\n",
              "    <tr>\n",
              "      <th>3</th>\n",
              "      <td>8.0</td>\n",
              "      <td>54.0</td>\n",
              "    </tr>\n",
              "    <tr>\n",
              "      <th>4</th>\n",
              "      <td>38.0</td>\n",
              "      <td>90.0</td>\n",
              "    </tr>\n",
              "    <tr>\n",
              "      <th>...</th>\n",
              "      <td>...</td>\n",
              "      <td>...</td>\n",
              "    </tr>\n",
              "    <tr>\n",
              "      <th>3839</th>\n",
              "      <td>19.0</td>\n",
              "      <td>169.0</td>\n",
              "    </tr>\n",
              "    <tr>\n",
              "      <th>3840</th>\n",
              "      <td>40.0</td>\n",
              "      <td>149.0</td>\n",
              "    </tr>\n",
              "    <tr>\n",
              "      <th>3841</th>\n",
              "      <td>14.0</td>\n",
              "      <td>80.0</td>\n",
              "    </tr>\n",
              "    <tr>\n",
              "      <th>3842</th>\n",
              "      <td>73.0</td>\n",
              "      <td>180.0</td>\n",
              "    </tr>\n",
              "    <tr>\n",
              "      <th>3843</th>\n",
              "      <td>74.0</td>\n",
              "      <td>25.0</td>\n",
              "    </tr>\n",
              "  </tbody>\n",
              "</table>\n",
              "<p>3844 rows × 2 columns</p>\n",
              "</div>"
            ],
            "text/plain": [
              "      number_of_reviews  price\n",
              "0                  65.0   70.0\n",
              "1                  33.0   17.0\n",
              "2                  64.0  115.0\n",
              "3                   8.0   54.0\n",
              "4                  38.0   90.0\n",
              "...                 ...    ...\n",
              "3839               19.0  169.0\n",
              "3840               40.0  149.0\n",
              "3841               14.0   80.0\n",
              "3842               73.0  180.0\n",
              "3843               74.0   25.0\n",
              "\n",
              "[3844 rows x 2 columns]"
            ]
          },
          "metadata": {},
          "execution_count": 31
        }
      ]
    },
    {
      "cell_type": "code",
      "metadata": {
        "id": "uCbmmlVGqxOS"
      },
      "source": [
        "# Initialising the ANN\n",
        "rnn = Sequential()\n",
        "\n",
        "# Adding the input layer and the first hidden layer\n",
        "rnn.add(Dense(12, activation = 'tanh', input_dim = 8))\n",
        "\n",
        "# Adding the second hidden layer\n",
        "rnn.add(Dense(7, activation = 'tanh'))\n",
        "\n",
        "\n",
        "# Adding the output layer\n",
        "rnn.add(Dense(1, activation = 'linear'))\n",
        "\n",
        "# Compiling the ANN\n",
        "rnn.compile(optimizer='adam', loss='mean_squared_error', metrics = ['accuracy'])"
      ],
      "execution_count": 35,
      "outputs": []
    },
    {
      "cell_type": "code",
      "metadata": {
        "id": "S46rejQUrrJp",
        "colab": {
          "base_uri": "https://localhost:8080/"
        },
        "outputId": "de593aa3-a4b6-48e1-e4f7-63df46a3602b"
      },
      "source": [
        "# Fitting the ANN to the Training set\n",
        "k = rnn.fit(X_train, y_train, batch_size = 10, validation_data=(X_test, y_test), epochs = 80)"
      ],
      "execution_count": 36,
      "outputs": [
        {
          "output_type": "stream",
          "name": "stdout",
          "text": [
            "Epoch 1/80\n",
            "308/308 [==============================] - 1s 3ms/step - loss: 1.0432 - accuracy: 0.0000e+00 - val_loss: 5288.5801 - val_accuracy: 0.0000e+00\n",
            "Epoch 2/80\n",
            "308/308 [==============================] - 1s 2ms/step - loss: 0.9834 - accuracy: 0.0000e+00 - val_loss: 5285.3101 - val_accuracy: 0.0000e+00\n",
            "Epoch 3/80\n",
            "308/308 [==============================] - 1s 2ms/step - loss: 0.9723 - accuracy: 0.0000e+00 - val_loss: 5292.4087 - val_accuracy: 0.0000e+00\n",
            "Epoch 4/80\n",
            "308/308 [==============================] - 1s 2ms/step - loss: 0.9661 - accuracy: 0.0000e+00 - val_loss: 5282.3853 - val_accuracy: 0.0000e+00\n",
            "Epoch 5/80\n",
            "308/308 [==============================] - 1s 2ms/step - loss: 0.9630 - accuracy: 0.0000e+00 - val_loss: 5285.2686 - val_accuracy: 0.0000e+00\n",
            "Epoch 6/80\n",
            "308/308 [==============================] - 1s 2ms/step - loss: 0.9599 - accuracy: 0.0000e+00 - val_loss: 5295.8936 - val_accuracy: 0.0000e+00\n",
            "Epoch 7/80\n",
            "308/308 [==============================] - 1s 2ms/step - loss: 0.9571 - accuracy: 0.0000e+00 - val_loss: 5291.8833 - val_accuracy: 0.0000e+00\n",
            "Epoch 8/80\n",
            "308/308 [==============================] - 1s 2ms/step - loss: 0.9544 - accuracy: 0.0000e+00 - val_loss: 5321.7593 - val_accuracy: 0.0000e+00\n",
            "Epoch 9/80\n",
            "308/308 [==============================] - 1s 2ms/step - loss: 0.9517 - accuracy: 0.0000e+00 - val_loss: 5321.9897 - val_accuracy: 0.0000e+00\n",
            "Epoch 10/80\n",
            "308/308 [==============================] - 1s 2ms/step - loss: 0.9513 - accuracy: 0.0000e+00 - val_loss: 5315.9395 - val_accuracy: 0.0000e+00\n",
            "Epoch 11/80\n",
            "308/308 [==============================] - 1s 2ms/step - loss: 0.9473 - accuracy: 0.0000e+00 - val_loss: 5311.7866 - val_accuracy: 0.0000e+00\n",
            "Epoch 12/80\n",
            "308/308 [==============================] - 1s 2ms/step - loss: 0.9446 - accuracy: 0.0000e+00 - val_loss: 5337.0317 - val_accuracy: 0.0000e+00\n",
            "Epoch 13/80\n",
            "308/308 [==============================] - 1s 2ms/step - loss: 0.9441 - accuracy: 0.0000e+00 - val_loss: 5339.1245 - val_accuracy: 0.0000e+00\n",
            "Epoch 14/80\n",
            "308/308 [==============================] - 1s 2ms/step - loss: 0.9423 - accuracy: 0.0000e+00 - val_loss: 5324.4102 - val_accuracy: 0.0000e+00\n",
            "Epoch 15/80\n",
            "308/308 [==============================] - 1s 2ms/step - loss: 0.9403 - accuracy: 0.0000e+00 - val_loss: 5320.4282 - val_accuracy: 0.0000e+00\n",
            "Epoch 16/80\n",
            "308/308 [==============================] - 1s 2ms/step - loss: 0.9379 - accuracy: 0.0000e+00 - val_loss: 5304.7505 - val_accuracy: 0.0000e+00\n",
            "Epoch 17/80\n",
            "308/308 [==============================] - 1s 2ms/step - loss: 0.9351 - accuracy: 0.0000e+00 - val_loss: 5278.7935 - val_accuracy: 0.0000e+00\n",
            "Epoch 18/80\n",
            "308/308 [==============================] - 1s 2ms/step - loss: 0.9341 - accuracy: 0.0000e+00 - val_loss: 5280.0083 - val_accuracy: 0.0000e+00\n",
            "Epoch 19/80\n",
            "308/308 [==============================] - 1s 2ms/step - loss: 0.9330 - accuracy: 0.0000e+00 - val_loss: 5273.0894 - val_accuracy: 0.0000e+00\n",
            "Epoch 20/80\n",
            "308/308 [==============================] - 1s 2ms/step - loss: 0.9320 - accuracy: 0.0000e+00 - val_loss: 5267.4229 - val_accuracy: 0.0000e+00\n",
            "Epoch 21/80\n",
            "308/308 [==============================] - 1s 2ms/step - loss: 0.9314 - accuracy: 0.0000e+00 - val_loss: 5262.3428 - val_accuracy: 0.0000e+00\n",
            "Epoch 22/80\n",
            "308/308 [==============================] - 1s 2ms/step - loss: 0.9295 - accuracy: 0.0000e+00 - val_loss: 5272.8760 - val_accuracy: 0.0000e+00\n",
            "Epoch 23/80\n",
            "308/308 [==============================] - 1s 2ms/step - loss: 0.9282 - accuracy: 0.0000e+00 - val_loss: 5256.2017 - val_accuracy: 0.0000e+00\n",
            "Epoch 24/80\n",
            "308/308 [==============================] - 1s 2ms/step - loss: 0.9268 - accuracy: 0.0000e+00 - val_loss: 5250.6357 - val_accuracy: 0.0000e+00\n",
            "Epoch 25/80\n",
            "308/308 [==============================] - 1s 2ms/step - loss: 0.9267 - accuracy: 0.0000e+00 - val_loss: 5241.5078 - val_accuracy: 0.0000e+00\n",
            "Epoch 26/80\n",
            "308/308 [==============================] - 1s 2ms/step - loss: 0.9266 - accuracy: 0.0000e+00 - val_loss: 5259.0957 - val_accuracy: 0.0000e+00\n",
            "Epoch 27/80\n",
            "308/308 [==============================] - 1s 2ms/step - loss: 0.9241 - accuracy: 0.0000e+00 - val_loss: 5255.8340 - val_accuracy: 0.0000e+00\n",
            "Epoch 28/80\n",
            "308/308 [==============================] - 1s 2ms/step - loss: 0.9232 - accuracy: 0.0000e+00 - val_loss: 5263.5718 - val_accuracy: 0.0000e+00\n",
            "Epoch 29/80\n",
            "308/308 [==============================] - 1s 2ms/step - loss: 0.9237 - accuracy: 0.0000e+00 - val_loss: 5263.7739 - val_accuracy: 0.0000e+00\n",
            "Epoch 30/80\n",
            "308/308 [==============================] - 1s 2ms/step - loss: 0.9234 - accuracy: 0.0000e+00 - val_loss: 5265.2993 - val_accuracy: 0.0000e+00\n",
            "Epoch 31/80\n",
            "308/308 [==============================] - 1s 2ms/step - loss: 0.9206 - accuracy: 0.0000e+00 - val_loss: 5264.9131 - val_accuracy: 0.0000e+00\n",
            "Epoch 32/80\n",
            "308/308 [==============================] - 1s 2ms/step - loss: 0.9204 - accuracy: 0.0000e+00 - val_loss: 5260.6978 - val_accuracy: 0.0000e+00\n",
            "Epoch 33/80\n",
            "308/308 [==============================] - 1s 2ms/step - loss: 0.9196 - accuracy: 0.0000e+00 - val_loss: 5256.4272 - val_accuracy: 0.0000e+00\n",
            "Epoch 34/80\n",
            "308/308 [==============================] - 1s 2ms/step - loss: 0.9204 - accuracy: 0.0000e+00 - val_loss: 5253.7705 - val_accuracy: 0.0000e+00\n",
            "Epoch 35/80\n",
            "308/308 [==============================] - 1s 2ms/step - loss: 0.9182 - accuracy: 0.0000e+00 - val_loss: 5261.0469 - val_accuracy: 0.0000e+00\n",
            "Epoch 36/80\n",
            "308/308 [==============================] - 1s 2ms/step - loss: 0.9180 - accuracy: 0.0000e+00 - val_loss: 5250.1445 - val_accuracy: 0.0000e+00\n",
            "Epoch 37/80\n",
            "308/308 [==============================] - 1s 2ms/step - loss: 0.9166 - accuracy: 0.0000e+00 - val_loss: 5253.7720 - val_accuracy: 0.0000e+00\n",
            "Epoch 38/80\n",
            "308/308 [==============================] - 1s 2ms/step - loss: 0.9177 - accuracy: 0.0000e+00 - val_loss: 5250.6265 - val_accuracy: 0.0000e+00\n",
            "Epoch 39/80\n",
            "308/308 [==============================] - 1s 2ms/step - loss: 0.9156 - accuracy: 0.0000e+00 - val_loss: 5250.0791 - val_accuracy: 0.0000e+00\n",
            "Epoch 40/80\n",
            "308/308 [==============================] - 1s 2ms/step - loss: 0.9171 - accuracy: 0.0000e+00 - val_loss: 5254.4048 - val_accuracy: 0.0000e+00\n",
            "Epoch 41/80\n",
            "308/308 [==============================] - 1s 2ms/step - loss: 0.9142 - accuracy: 0.0000e+00 - val_loss: 5255.2061 - val_accuracy: 0.0000e+00\n",
            "Epoch 42/80\n",
            "308/308 [==============================] - 1s 2ms/step - loss: 0.9148 - accuracy: 0.0000e+00 - val_loss: 5242.8062 - val_accuracy: 0.0000e+00\n",
            "Epoch 43/80\n",
            "308/308 [==============================] - 1s 2ms/step - loss: 0.9137 - accuracy: 0.0000e+00 - val_loss: 5243.4893 - val_accuracy: 0.0000e+00\n",
            "Epoch 44/80\n",
            "308/308 [==============================] - 1s 2ms/step - loss: 0.9136 - accuracy: 0.0000e+00 - val_loss: 5244.3477 - val_accuracy: 0.0000e+00\n",
            "Epoch 45/80\n",
            "308/308 [==============================] - 1s 2ms/step - loss: 0.9120 - accuracy: 0.0000e+00 - val_loss: 5240.8745 - val_accuracy: 0.0000e+00\n",
            "Epoch 46/80\n",
            "308/308 [==============================] - 1s 2ms/step - loss: 0.9113 - accuracy: 0.0000e+00 - val_loss: 5246.1182 - val_accuracy: 0.0000e+00\n",
            "Epoch 47/80\n",
            "308/308 [==============================] - 1s 2ms/step - loss: 0.9116 - accuracy: 0.0000e+00 - val_loss: 5242.0068 - val_accuracy: 0.0000e+00\n",
            "Epoch 48/80\n",
            "308/308 [==============================] - 1s 2ms/step - loss: 0.9111 - accuracy: 0.0000e+00 - val_loss: 5240.9224 - val_accuracy: 0.0000e+00\n",
            "Epoch 49/80\n",
            "308/308 [==============================] - 1s 2ms/step - loss: 0.9107 - accuracy: 0.0000e+00 - val_loss: 5245.3252 - val_accuracy: 0.0000e+00\n",
            "Epoch 50/80\n",
            "308/308 [==============================] - 1s 2ms/step - loss: 0.9095 - accuracy: 0.0000e+00 - val_loss: 5245.0479 - val_accuracy: 0.0000e+00\n",
            "Epoch 51/80\n",
            "308/308 [==============================] - 1s 2ms/step - loss: 0.9097 - accuracy: 0.0000e+00 - val_loss: 5248.9175 - val_accuracy: 0.0000e+00\n",
            "Epoch 52/80\n",
            "308/308 [==============================] - 1s 2ms/step - loss: 0.9075 - accuracy: 0.0000e+00 - val_loss: 5244.5352 - val_accuracy: 0.0000e+00\n",
            "Epoch 53/80\n",
            "308/308 [==============================] - 1s 2ms/step - loss: 0.9088 - accuracy: 0.0000e+00 - val_loss: 5248.4673 - val_accuracy: 0.0000e+00\n",
            "Epoch 54/80\n",
            "308/308 [==============================] - 1s 2ms/step - loss: 0.9081 - accuracy: 0.0000e+00 - val_loss: 5245.6553 - val_accuracy: 0.0000e+00\n",
            "Epoch 55/80\n",
            "308/308 [==============================] - 1s 2ms/step - loss: 0.9082 - accuracy: 0.0000e+00 - val_loss: 5240.9956 - val_accuracy: 0.0000e+00\n",
            "Epoch 56/80\n",
            "308/308 [==============================] - 1s 2ms/step - loss: 0.9069 - accuracy: 0.0000e+00 - val_loss: 5248.9004 - val_accuracy: 0.0000e+00\n",
            "Epoch 57/80\n",
            "308/308 [==============================] - 1s 2ms/step - loss: 0.9053 - accuracy: 0.0000e+00 - val_loss: 5235.6846 - val_accuracy: 0.0000e+00\n",
            "Epoch 58/80\n",
            "308/308 [==============================] - 1s 2ms/step - loss: 0.9063 - accuracy: 0.0000e+00 - val_loss: 5243.8438 - val_accuracy: 0.0000e+00\n",
            "Epoch 59/80\n",
            "308/308 [==============================] - 1s 2ms/step - loss: 0.9070 - accuracy: 0.0000e+00 - val_loss: 5234.7808 - val_accuracy: 0.0000e+00\n",
            "Epoch 60/80\n",
            "308/308 [==============================] - 1s 2ms/step - loss: 0.9042 - accuracy: 0.0000e+00 - val_loss: 5223.3423 - val_accuracy: 0.0000e+00\n",
            "Epoch 61/80\n",
            "308/308 [==============================] - 1s 2ms/step - loss: 0.9052 - accuracy: 0.0000e+00 - val_loss: 5242.3979 - val_accuracy: 0.0000e+00\n",
            "Epoch 62/80\n",
            "308/308 [==============================] - 1s 2ms/step - loss: 0.9064 - accuracy: 0.0000e+00 - val_loss: 5228.7661 - val_accuracy: 0.0000e+00\n",
            "Epoch 63/80\n",
            "308/308 [==============================] - 1s 2ms/step - loss: 0.9048 - accuracy: 0.0000e+00 - val_loss: 5224.3652 - val_accuracy: 0.0000e+00\n",
            "Epoch 64/80\n",
            "308/308 [==============================] - 1s 2ms/step - loss: 0.9036 - accuracy: 0.0000e+00 - val_loss: 5225.9390 - val_accuracy: 0.0000e+00\n",
            "Epoch 65/80\n",
            "308/308 [==============================] - 1s 2ms/step - loss: 0.9045 - accuracy: 0.0000e+00 - val_loss: 5229.1177 - val_accuracy: 0.0000e+00\n",
            "Epoch 66/80\n",
            "308/308 [==============================] - 1s 2ms/step - loss: 0.9028 - accuracy: 0.0000e+00 - val_loss: 5230.1152 - val_accuracy: 0.0000e+00\n",
            "Epoch 67/80\n",
            "308/308 [==============================] - 1s 2ms/step - loss: 0.9029 - accuracy: 0.0000e+00 - val_loss: 5216.3232 - val_accuracy: 0.0000e+00\n",
            "Epoch 68/80\n",
            "308/308 [==============================] - 1s 2ms/step - loss: 0.9004 - accuracy: 0.0000e+00 - val_loss: 5217.5576 - val_accuracy: 0.0000e+00\n",
            "Epoch 69/80\n",
            "308/308 [==============================] - 1s 2ms/step - loss: 0.9026 - accuracy: 0.0000e+00 - val_loss: 5217.4268 - val_accuracy: 0.0000e+00\n",
            "Epoch 70/80\n",
            "308/308 [==============================] - 1s 2ms/step - loss: 0.9011 - accuracy: 0.0000e+00 - val_loss: 5221.0601 - val_accuracy: 0.0000e+00\n",
            "Epoch 71/80\n",
            "308/308 [==============================] - 1s 2ms/step - loss: 0.9014 - accuracy: 0.0000e+00 - val_loss: 5220.4946 - val_accuracy: 0.0000e+00\n",
            "Epoch 72/80\n",
            "308/308 [==============================] - 1s 2ms/step - loss: 0.9007 - accuracy: 0.0000e+00 - val_loss: 5220.0020 - val_accuracy: 0.0000e+00\n",
            "Epoch 73/80\n",
            "308/308 [==============================] - 1s 2ms/step - loss: 0.8998 - accuracy: 0.0000e+00 - val_loss: 5207.9653 - val_accuracy: 0.0000e+00\n",
            "Epoch 74/80\n",
            "308/308 [==============================] - 1s 2ms/step - loss: 0.8987 - accuracy: 0.0000e+00 - val_loss: 5208.6538 - val_accuracy: 0.0000e+00\n",
            "Epoch 75/80\n",
            "308/308 [==============================] - 1s 2ms/step - loss: 0.8999 - accuracy: 0.0000e+00 - val_loss: 5210.7847 - val_accuracy: 0.0000e+00\n",
            "Epoch 76/80\n",
            "308/308 [==============================] - 1s 2ms/step - loss: 0.8961 - accuracy: 0.0000e+00 - val_loss: 5211.0059 - val_accuracy: 0.0000e+00\n",
            "Epoch 77/80\n",
            "308/308 [==============================] - 1s 2ms/step - loss: 0.8992 - accuracy: 0.0000e+00 - val_loss: 5208.8296 - val_accuracy: 0.0000e+00\n",
            "Epoch 78/80\n",
            "308/308 [==============================] - 1s 2ms/step - loss: 0.8989 - accuracy: 0.0000e+00 - val_loss: 5209.9409 - val_accuracy: 0.0000e+00\n",
            "Epoch 79/80\n",
            "308/308 [==============================] - 1s 2ms/step - loss: 0.8952 - accuracy: 0.0000e+00 - val_loss: 5201.5459 - val_accuracy: 0.0000e+00\n",
            "Epoch 80/80\n",
            "308/308 [==============================] - 1s 2ms/step - loss: 0.8985 - accuracy: 0.0000e+00 - val_loss: 5205.4248 - val_accuracy: 0.0000e+00\n"
          ]
        }
      ]
    },
    {
      "cell_type": "code",
      "metadata": {
        "id": "bA7Xviwjrt85"
      },
      "source": [
        "# Predicting the Test set results\n",
        "y_pred = rnn.predict(X_test)"
      ],
      "execution_count": 37,
      "outputs": []
    },
    {
      "cell_type": "code",
      "metadata": {
        "id": "MG5XPpd1rxEt"
      },
      "source": [
        "# Inversing scaling\n",
        "from sklearn.preprocessing import StandardScaler\n",
        "y_hat = sc_y.inverse_transform(y_pred)\n",
        "y_test = sc_y.inverse_transform(y_test)\n",
        "X_test = sc_X.inverse_transform(X_test)"
      ],
      "execution_count": 38,
      "outputs": []
    },
    {
      "cell_type": "code",
      "metadata": {
        "id": "a7-8WLCYr13f",
        "colab": {
          "base_uri": "https://localhost:8080/"
        },
        "outputId": "82c3aeaa-8205-4b7b-df12-d4b907c4fce7"
      },
      "source": [
        "# Mean squared error\n",
        "from sklearn.metrics import mean_squared_error\n",
        "mean_squared_error(sc_y.inverse_transform(y_train), sc_y.inverse_transform(rnn.predict(X_train)), squared=False).round(3), mean_squared_error(y_test, y_hat, squared=False).round(3)"
      ],
      "execution_count": 39,
      "outputs": [
        {
          "output_type": "execute_result",
          "data": {
            "text/plain": [
              "(35.18, 2689.509)"
            ]
          },
          "metadata": {},
          "execution_count": 39
        }
      ]
    },
    {
      "cell_type": "code",
      "metadata": {
        "id": "9W-hmqNgr5OT"
      },
      "source": [
        "# В целом стоит заметить, что НС лучше справляются с прогнозированием, особенно даже по одному критерию - количеству отзывов у апартаментов\n",
        "# Однако есть предположение, что на новых и свежих данных с учетом специфики вероятность высокой эффективности модели невысока"
      ],
      "execution_count": null,
      "outputs": []
    },
    {
      "cell_type": "code",
      "metadata": {
        "id": "ynxiRngj-P4i"
      },
      "source": [
        ""
      ],
      "execution_count": null,
      "outputs": []
    }
  ]
}